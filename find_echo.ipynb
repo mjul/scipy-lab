{
 "cells": [
  {
   "cell_type": "markdown",
   "metadata": {
    "collapsed": true,
    "pycharm": {
     "name": "#%% md\n"
    }
   },
   "source": [
    "# Find the Echo\n",
    "\n",
    "If we have a two signals with one being a fainter, delayed, noisy version of the other (let's call it the echo)\n",
    "we can compute the delay between the two."
   ]
  },
  {
   "cell_type": "code",
   "execution_count": null,
   "outputs": [],
   "source": [
    "import numpy as np\n",
    "import matplotlib.pyplot as plt\n",
    "import scipy.signal\n",
    "\n",
    "plt.rcParams['figure.facecolor'] = '.95'"
   ],
   "metadata": {
    "collapsed": false,
    "pycharm": {
     "name": "#%%\n"
    }
   }
  },
  {
   "cell_type": "markdown",
   "source": [
    "Let's create the signal and its echo:"
   ],
   "metadata": {
    "collapsed": false,
    "pycharm": {
     "name": "#%% md\n"
    }
   }
  },
  {
   "cell_type": "code",
   "execution_count": null,
   "outputs": [],
   "source": [
    "N = 100\n",
    "xs = np.arange(N)\n",
    "\n",
    "a = 42\n",
    "signal = a*np.sin(np.pi/10*xs) + xs\n",
    "\n",
    "echo_delay = 7\n",
    "echo_strength = 0.3 # attenuation\n",
    "\n",
    "echo = np.zeros_like(signal)\n",
    "echo[echo_delay:] = signal[:-echo_delay]*echo_strength"
   ],
   "metadata": {
    "collapsed": false,
    "pycharm": {
     "name": "#%%\n"
    }
   }
  },
  {
   "cell_type": "markdown",
   "source": [
    "Let's see what it looks like."
   ],
   "metadata": {
    "collapsed": false,
    "pycharm": {
     "name": "#%% md\n"
    }
   }
  },
  {
   "cell_type": "code",
   "execution_count": null,
   "outputs": [],
   "source": [
    "fig, (ax_sig, ax_echo) = plt.subplots(nrows=2, sharex=True, sharey=True)\n",
    "plt.suptitle('Signal and Echo')\n",
    "ax_sig.plot(xs, signal, label='signal')\n",
    "ax_echo.plot(xs, echo, '--', label='echo')\n",
    "ax_sig.legend()\n",
    "ax_echo.legend()"
   ],
   "metadata": {
    "collapsed": false,
    "pycharm": {
     "name": "#%%\n"
    }
   }
  },
  {
   "cell_type": "markdown",
   "source": [
    "Let's see how the it looks when we convolve and cross-correlate the signal and echo:"
   ],
   "metadata": {
    "collapsed": false,
    "pycharm": {
     "name": "#%% md\n"
    }
   }
  },
  {
   "cell_type": "code",
   "execution_count": null,
   "outputs": [],
   "source": [
    "convolved = scipy.signal.fftconvolve(echo, signal, mode='same')\n",
    "crosscorrelated = scipy.signal.correlate(echo, signal, mode='same')\n",
    "\n",
    "plt.suptitle('Convolution and cross-correlation')\n",
    "plt.plot(convolved, ':', label='Convolved: signal * echo')\n",
    "plt.plot(crosscorrelated, ':', label='Cross-correlated: signal * echo')\n",
    "plt.legend()"
   ],
   "metadata": {
    "collapsed": false,
    "pycharm": {
     "name": "#%%\n"
    }
   }
  },
  {
   "cell_type": "markdown",
   "source": [
    "We can get the lag (delay) using the cross-correlated signal and echo.\n",
    "It is the index with the highest value."
   ],
   "metadata": {
    "collapsed": false,
    "pycharm": {
     "name": "#%% md\n"
    }
   }
  },
  {
   "cell_type": "code",
   "execution_count": null,
   "outputs": [],
   "source": [
    "# Compute the lag directly\n",
    "delays = np.linspace(-int(N/2), int(N/2)-1, N)\n",
    "cc_argmax = np.argmax(crosscorrelated)\n",
    "lag = delays[cc_argmax]\n",
    "print(f'lag = {lag}')"
   ],
   "metadata": {
    "collapsed": false,
    "pycharm": {
     "name": "#%%\n"
    }
   }
  },
  {
   "cell_type": "markdown",
   "source": [
    "Matplotlib also comes with a built-in plotting function to do the same.\n",
    "It is probably named after the `xcorr` function in Matlab."
   ],
   "metadata": {
    "collapsed": false,
    "pycharm": {
     "name": "#%% md\n"
    }
   }
  },
  {
   "cell_type": "code",
   "execution_count": null,
   "outputs": [],
   "source": [
    "# We can also get the lag from plt.xcorr\n",
    "(lags, c, line, b) = plt.xcorr(echo, signal)\n",
    "lag = lags[np.argmax(c)]\n",
    "print(f'lag = {lag}')"
   ],
   "metadata": {
    "collapsed": false,
    "pycharm": {
     "name": "#%%\n"
    }
   }
  },
  {
   "cell_type": "code",
   "execution_count": null,
   "outputs": [],
   "source": [],
   "metadata": {
    "collapsed": false,
    "pycharm": {
     "name": "#%%\n"
    }
   }
  }
 ],
 "metadata": {
  "kernelspec": {
   "display_name": "Python 3",
   "language": "python",
   "name": "python3"
  },
  "language_info": {
   "codemirror_mode": {
    "name": "ipython",
    "version": 2
   },
   "file_extension": ".py",
   "mimetype": "text/x-python",
   "name": "python",
   "nbconvert_exporter": "python",
   "pygments_lexer": "ipython2",
   "version": "2.7.6"
  }
 },
 "nbformat": 4,
 "nbformat_minor": 0
}